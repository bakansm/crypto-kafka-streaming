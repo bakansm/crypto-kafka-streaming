{
 "cells": [
  {
   "cell_type": "code",
   "execution_count": 1,
   "metadata": {},
   "outputs": [],
   "source": [
    "import requests\n",
    "import time\n",
    "import os\n",
    "import pandas as pd\n",
    "from io import StringIO \n",
    "import matplotlib.pyplot as plt\n",
    "from IPython.display import clear_output"
   ]
  },
  {
   "cell_type": "code",
   "execution_count": null,
   "metadata": {},
   "outputs": [],
   "source": [
    "while True:\n",
    "    data_BTC = requests.get(\n",
    "            'http://localhost:9000/exp',\n",
    "            {\n",
    "                'query': \"SELECT *, avg(amount) AS 'average' from 'crypto' WHERE currency = 'BTC'\",\n",
    "            })\n",
    "    data_BTC_csv = StringIO(data_BTC.text)\n",
    "    df_BTC = pd.read_csv(data_BTC_csv, sep=\",\", header=0)\n",
    "\n",
    "    data_ETH = requests.get(\n",
    "            'http://localhost:9000/exp',\n",
    "            {\n",
    "                'query': \"SELECT *, avg(amount) AS 'average' from 'crypto' WHERE currency = 'ETH'\",\n",
    "            })\n",
    "    data_ETH_csv = StringIO(data_ETH.text)\n",
    "    df_ETH = pd.read_csv(data_ETH_csv, sep=\",\", header=0)\n",
    "\n",
    "    fig, axs = plt.subplots(2, 1, constrained_layout=True)\n",
    "    axs[0].plot(df_BTC['timestamp'], df_BTC['average'])\n",
    "    axs[0].set_title('BTC')\n",
    "    axs[0].set_xlabel('Time')\n",
    "    axs[0].set_ylabel('Price')\n",
    "    axs[0].axes.get_xaxis().set_ticks([])\n",
    "\n",
    "\n",
    "    axs[1].plot(df_ETH['timestamp'], df_ETH['average'])\n",
    "    axs[1].set_title('ETH')\n",
    "    axs[1].set_xlabel('Time')\n",
    "    axs[1].set_ylabel('Price')\n",
    "    axs[1].axes.get_xaxis().set_ticks([])\n",
    "\n",
    "    fig.suptitle('Crypto Average Price', fontsize=16)\n",
    "\n",
    "    plt.show()\n",
    "    time.sleep(3)\n",
    "    clear_output(wait=True)"
   ]
  }
 ],
 "metadata": {
  "kernelspec": {
   "display_name": "Python 3",
   "language": "python",
   "name": "python3"
  },
  "language_info": {
   "codemirror_mode": {
    "name": "ipython",
    "version": 3
   },
   "file_extension": ".py",
   "mimetype": "text/x-python",
   "name": "python",
   "nbconvert_exporter": "python",
   "pygments_lexer": "ipython3",
   "version": "3.10.9"
  },
  "orig_nbformat": 4,
  "vscode": {
   "interpreter": {
    "hash": "e7370f93d1d0cde622a1f8e1c04877d8463912d04d973331ad4851f04de6915a"
   }
  }
 },
 "nbformat": 4,
 "nbformat_minor": 2
}
