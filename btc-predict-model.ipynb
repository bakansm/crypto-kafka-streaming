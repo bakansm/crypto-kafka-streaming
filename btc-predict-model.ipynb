{
 "cells": [
  {
   "cell_type": "code",
   "execution_count": 1,
   "metadata": {},
   "outputs": [
    {
     "name": "stderr",
     "output_type": "stream",
     "text": [
      "2023-02-22 09:41:39.395074: I tensorflow/core/platform/cpu_feature_guard.cc:193] This TensorFlow binary is optimized with oneAPI Deep Neural Network Library (oneDNN) to use the following CPU instructions in performance-critical operations:  AVX2 FMA\n",
      "To enable them in other operations, rebuild TensorFlow with the appropriate compiler flags.\n",
      "2023-02-22 09:41:39.511305: W tensorflow/compiler/xla/stream_executor/platform/default/dso_loader.cc:64] Could not load dynamic library 'libcudart.so.11.0'; dlerror: libcudart.so.11.0: cannot open shared object file: No such file or directory\n",
      "2023-02-22 09:41:39.511327: I tensorflow/compiler/xla/stream_executor/cuda/cudart_stub.cc:29] Ignore above cudart dlerror if you do not have a GPU set up on your machine.\n",
      "2023-02-22 09:41:40.141417: W tensorflow/compiler/xla/stream_executor/platform/default/dso_loader.cc:64] Could not load dynamic library 'libnvinfer.so.7'; dlerror: libnvinfer.so.7: cannot open shared object file: No such file or directory\n",
      "2023-02-22 09:41:40.141547: W tensorflow/compiler/xla/stream_executor/platform/default/dso_loader.cc:64] Could not load dynamic library 'libnvinfer_plugin.so.7'; dlerror: libnvinfer_plugin.so.7: cannot open shared object file: No such file or directory\n",
      "2023-02-22 09:41:40.141558: W tensorflow/compiler/tf2tensorrt/utils/py_utils.cc:38] TF-TRT Warning: Cannot dlopen some TensorRT libraries. If you would like to use Nvidia GPU with TensorRT, please make sure the missing libraries mentioned above are installed properly.\n"
     ]
    }
   ],
   "source": [
    "import pandas as pd\n",
    "import numpy as np\n",
    "import plotly.graph_objects as go\n",
    "import matplotlib.pyplot as plt\n",
    "import math\n",
    "\n",
    "from sklearn.linear_model import LinearRegression\n",
    "from sklearn.preprocessing import MinMaxScaler\n",
    "from sklearn.model_selection import train_test_split\n",
    "from tensorflow.keras.models import Sequential\n",
    "from tensorflow.keras.layers import Dense,LSTM,Dropout\n",
    "from plotly.offline import iplot\n",
    "from sklearn.metrics import mean_squared_error, mean_absolute_error\n"
   ]
  },
  {
   "cell_type": "code",
   "execution_count": 2,
   "metadata": {},
   "outputs": [
    {
     "data": {
      "text/html": [
       "<div>\n",
       "<style scoped>\n",
       "    .dataframe tbody tr th:only-of-type {\n",
       "        vertical-align: middle;\n",
       "    }\n",
       "\n",
       "    .dataframe tbody tr th {\n",
       "        vertical-align: top;\n",
       "    }\n",
       "\n",
       "    .dataframe thead th {\n",
       "        text-align: right;\n",
       "    }\n",
       "</style>\n",
       "<table border=\"1\" class=\"dataframe\">\n",
       "  <thead>\n",
       "    <tr style=\"text-align: right;\">\n",
       "      <th></th>\n",
       "      <th>Unix</th>\n",
       "      <th>Date</th>\n",
       "      <th>Symbol</th>\n",
       "      <th>Open</th>\n",
       "      <th>High</th>\n",
       "      <th>Low</th>\n",
       "      <th>Close</th>\n",
       "      <th>Volume BTC</th>\n",
       "      <th>Volume Currency</th>\n",
       "    </tr>\n",
       "  </thead>\n",
       "  <tbody>\n",
       "    <tr>\n",
       "      <th>0</th>\n",
       "      <td>1676588400000</td>\n",
       "      <td>2023-02-16 23:00:00</td>\n",
       "      <td>BTC/USD</td>\n",
       "      <td>24002.33</td>\n",
       "      <td>24098.56</td>\n",
       "      <td>23515.96</td>\n",
       "      <td>23520.73</td>\n",
       "      <td>48.328991</td>\n",
       "      <td>1.136733e+06</td>\n",
       "    </tr>\n",
       "    <tr>\n",
       "      <th>1</th>\n",
       "      <td>1676584800000</td>\n",
       "      <td>2023-02-16 22:00:00</td>\n",
       "      <td>BTC/USD</td>\n",
       "      <td>24521.00</td>\n",
       "      <td>24555.40</td>\n",
       "      <td>24000.00</td>\n",
       "      <td>24002.33</td>\n",
       "      <td>41.758527</td>\n",
       "      <td>1.002302e+06</td>\n",
       "    </tr>\n",
       "    <tr>\n",
       "      <th>2</th>\n",
       "      <td>1676581200000</td>\n",
       "      <td>2023-02-16 21:00:00</td>\n",
       "      <td>BTC/USD</td>\n",
       "      <td>24562.44</td>\n",
       "      <td>24575.06</td>\n",
       "      <td>24364.72</td>\n",
       "      <td>24521.00</td>\n",
       "      <td>44.653526</td>\n",
       "      <td>1.094949e+06</td>\n",
       "    </tr>\n",
       "    <tr>\n",
       "      <th>3</th>\n",
       "      <td>1676577600000</td>\n",
       "      <td>2023-02-16 20:00:00</td>\n",
       "      <td>BTC/USD</td>\n",
       "      <td>24876.29</td>\n",
       "      <td>24886.09</td>\n",
       "      <td>24454.89</td>\n",
       "      <td>24562.44</td>\n",
       "      <td>108.987269</td>\n",
       "      <td>2.676993e+06</td>\n",
       "    </tr>\n",
       "    <tr>\n",
       "      <th>4</th>\n",
       "      <td>1676574000000</td>\n",
       "      <td>2023-02-16 19:00:00</td>\n",
       "      <td>BTC/USD</td>\n",
       "      <td>24979.87</td>\n",
       "      <td>24999.77</td>\n",
       "      <td>24846.43</td>\n",
       "      <td>24876.29</td>\n",
       "      <td>50.910118</td>\n",
       "      <td>1.266455e+06</td>\n",
       "    </tr>\n",
       "    <tr>\n",
       "      <th>...</th>\n",
       "      <td>...</td>\n",
       "      <td>...</td>\n",
       "      <td>...</td>\n",
       "      <td>...</td>\n",
       "      <td>...</td>\n",
       "      <td>...</td>\n",
       "      <td>...</td>\n",
       "      <td>...</td>\n",
       "      <td>...</td>\n",
       "    </tr>\n",
       "    <tr>\n",
       "      <th>64515</th>\n",
       "      <td>1444323600</td>\n",
       "      <td>2015-10-08 17:00:00</td>\n",
       "      <td>BTC/USD</td>\n",
       "      <td>244.25</td>\n",
       "      <td>244.99</td>\n",
       "      <td>244.02</td>\n",
       "      <td>244.99</td>\n",
       "      <td>3.920632</td>\n",
       "      <td>9.605156e+02</td>\n",
       "    </tr>\n",
       "    <tr>\n",
       "      <th>64516</th>\n",
       "      <td>1444320000</td>\n",
       "      <td>2015-10-08 16:00:00</td>\n",
       "      <td>BTC/USD</td>\n",
       "      <td>244.92</td>\n",
       "      <td>244.92</td>\n",
       "      <td>244.25</td>\n",
       "      <td>244.25</td>\n",
       "      <td>3.895252</td>\n",
       "      <td>9.514154e+02</td>\n",
       "    </tr>\n",
       "    <tr>\n",
       "      <th>64517</th>\n",
       "      <td>1444316400</td>\n",
       "      <td>2015-10-08 15:00:00</td>\n",
       "      <td>BTC/USD</td>\n",
       "      <td>245.00</td>\n",
       "      <td>245.00</td>\n",
       "      <td>244.92</td>\n",
       "      <td>244.92</td>\n",
       "      <td>3.016926</td>\n",
       "      <td>7.389055e+02</td>\n",
       "    </tr>\n",
       "    <tr>\n",
       "      <th>64518</th>\n",
       "      <td>1444312800</td>\n",
       "      <td>2015-10-08 14:00:00</td>\n",
       "      <td>BTC/USD</td>\n",
       "      <td>245.00</td>\n",
       "      <td>245.00</td>\n",
       "      <td>244.50</td>\n",
       "      <td>245.00</td>\n",
       "      <td>4.453649</td>\n",
       "      <td>1.091144e+03</td>\n",
       "    </tr>\n",
       "    <tr>\n",
       "      <th>64519</th>\n",
       "      <td>1444309200</td>\n",
       "      <td>2015-10-08 13:00:00</td>\n",
       "      <td>BTC/USD</td>\n",
       "      <td>0.00</td>\n",
       "      <td>245.00</td>\n",
       "      <td>0.00</td>\n",
       "      <td>245.00</td>\n",
       "      <td>0.606654</td>\n",
       "      <td>1.486303e+02</td>\n",
       "    </tr>\n",
       "  </tbody>\n",
       "</table>\n",
       "<p>64520 rows × 9 columns</p>\n",
       "</div>"
      ],
      "text/plain": [
       "                Unix                 Date   Symbol      Open      High  \\\n",
       "0      1676588400000  2023-02-16 23:00:00  BTC/USD  24002.33  24098.56   \n",
       "1      1676584800000  2023-02-16 22:00:00  BTC/USD  24521.00  24555.40   \n",
       "2      1676581200000  2023-02-16 21:00:00  BTC/USD  24562.44  24575.06   \n",
       "3      1676577600000  2023-02-16 20:00:00  BTC/USD  24876.29  24886.09   \n",
       "4      1676574000000  2023-02-16 19:00:00  BTC/USD  24979.87  24999.77   \n",
       "...              ...                  ...      ...       ...       ...   \n",
       "64515     1444323600  2015-10-08 17:00:00  BTC/USD    244.25    244.99   \n",
       "64516     1444320000  2015-10-08 16:00:00  BTC/USD    244.92    244.92   \n",
       "64517     1444316400  2015-10-08 15:00:00  BTC/USD    245.00    245.00   \n",
       "64518     1444312800  2015-10-08 14:00:00  BTC/USD    245.00    245.00   \n",
       "64519     1444309200  2015-10-08 13:00:00  BTC/USD      0.00    245.00   \n",
       "\n",
       "            Low     Close  Volume BTC  Volume Currency  \n",
       "0      23515.96  23520.73   48.328991     1.136733e+06  \n",
       "1      24000.00  24002.33   41.758527     1.002302e+06  \n",
       "2      24364.72  24521.00   44.653526     1.094949e+06  \n",
       "3      24454.89  24562.44  108.987269     2.676993e+06  \n",
       "4      24846.43  24876.29   50.910118     1.266455e+06  \n",
       "...         ...       ...         ...              ...  \n",
       "64515    244.02    244.99    3.920632     9.605156e+02  \n",
       "64516    244.25    244.25    3.895252     9.514154e+02  \n",
       "64517    244.92    244.92    3.016926     7.389055e+02  \n",
       "64518    244.50    245.00    4.453649     1.091144e+03  \n",
       "64519      0.00    245.00    0.606654     1.486303e+02  \n",
       "\n",
       "[64520 rows x 9 columns]"
      ]
     },
     "execution_count": 2,
     "metadata": {},
     "output_type": "execute_result"
    }
   ],
   "source": [
    "df=pd.read_csv('train.csv')\n",
    "df"
   ]
  },
  {
   "cell_type": "code",
   "execution_count": 3,
   "metadata": {},
   "outputs": [],
   "source": [
    "# from datetime import datetime\n",
    "# df['Date'] = pd.to_datetime(df['Timestamp'], unit = 's')\n",
    "# df = df.sort_values('Date')\n",
    "# groups = pd.factorize(df['Date'].dt.day.astype(str) + '_' + df['Date'].dt.month.astype(str) + '_' + df['Date'].dt.year.astype(str))[0]"
   ]
  },
  {
   "cell_type": "code",
   "execution_count": 4,
   "metadata": {},
   "outputs": [
    {
     "data": {
      "text/html": [
       "<div>\n",
       "<style scoped>\n",
       "    .dataframe tbody tr th:only-of-type {\n",
       "        vertical-align: middle;\n",
       "    }\n",
       "\n",
       "    .dataframe tbody tr th {\n",
       "        vertical-align: top;\n",
       "    }\n",
       "\n",
       "    .dataframe thead th {\n",
       "        text-align: right;\n",
       "    }\n",
       "</style>\n",
       "<table border=\"1\" class=\"dataframe\">\n",
       "  <thead>\n",
       "    <tr style=\"text-align: right;\">\n",
       "      <th></th>\n",
       "      <th>Unix</th>\n",
       "      <th>Symbol</th>\n",
       "      <th>Open</th>\n",
       "      <th>High</th>\n",
       "      <th>Low</th>\n",
       "      <th>Close</th>\n",
       "      <th>Volume BTC</th>\n",
       "      <th>Volume Currency</th>\n",
       "      <th>Vwap</th>\n",
       "    </tr>\n",
       "    <tr>\n",
       "      <th>Date</th>\n",
       "      <th></th>\n",
       "      <th></th>\n",
       "      <th></th>\n",
       "      <th></th>\n",
       "      <th></th>\n",
       "      <th></th>\n",
       "      <th></th>\n",
       "      <th></th>\n",
       "      <th></th>\n",
       "    </tr>\n",
       "  </thead>\n",
       "  <tbody>\n",
       "    <tr>\n",
       "      <th>2015-10-08 13:00:00</th>\n",
       "      <td>1444309200</td>\n",
       "      <td>BTC/USD</td>\n",
       "      <td>0.00</td>\n",
       "      <td>245.00</td>\n",
       "      <td>0.00</td>\n",
       "      <td>245.00</td>\n",
       "      <td>0.606654</td>\n",
       "      <td>1.486303e+02</td>\n",
       "      <td>11329.893700</td>\n",
       "    </tr>\n",
       "    <tr>\n",
       "      <th>2015-10-08 14:00:00</th>\n",
       "      <td>1444312800</td>\n",
       "      <td>BTC/USD</td>\n",
       "      <td>245.00</td>\n",
       "      <td>245.00</td>\n",
       "      <td>244.50</td>\n",
       "      <td>245.00</td>\n",
       "      <td>4.453649</td>\n",
       "      <td>1.091144e+03</td>\n",
       "      <td>11329.894537</td>\n",
       "    </tr>\n",
       "    <tr>\n",
       "      <th>2015-10-08 15:00:00</th>\n",
       "      <td>1444316400</td>\n",
       "      <td>BTC/USD</td>\n",
       "      <td>245.00</td>\n",
       "      <td>245.00</td>\n",
       "      <td>244.92</td>\n",
       "      <td>244.92</td>\n",
       "      <td>3.016926</td>\n",
       "      <td>7.389055e+02</td>\n",
       "      <td>11329.900619</td>\n",
       "    </tr>\n",
       "    <tr>\n",
       "      <th>2015-10-08 16:00:00</th>\n",
       "      <td>1444320000</td>\n",
       "      <td>BTC/USD</td>\n",
       "      <td>244.92</td>\n",
       "      <td>244.92</td>\n",
       "      <td>244.25</td>\n",
       "      <td>244.25</td>\n",
       "      <td>3.895252</td>\n",
       "      <td>9.514154e+02</td>\n",
       "      <td>11329.904739</td>\n",
       "    </tr>\n",
       "    <tr>\n",
       "      <th>2015-10-08 17:00:00</th>\n",
       "      <td>1444323600</td>\n",
       "      <td>BTC/USD</td>\n",
       "      <td>244.25</td>\n",
       "      <td>244.99</td>\n",
       "      <td>244.02</td>\n",
       "      <td>244.99</td>\n",
       "      <td>3.920632</td>\n",
       "      <td>9.605156e+02</td>\n",
       "      <td>11329.910059</td>\n",
       "    </tr>\n",
       "    <tr>\n",
       "      <th>...</th>\n",
       "      <td>...</td>\n",
       "      <td>...</td>\n",
       "      <td>...</td>\n",
       "      <td>...</td>\n",
       "      <td>...</td>\n",
       "      <td>...</td>\n",
       "      <td>...</td>\n",
       "      <td>...</td>\n",
       "      <td>...</td>\n",
       "    </tr>\n",
       "    <tr>\n",
       "      <th>2023-02-16 19:00:00</th>\n",
       "      <td>1676574000000</td>\n",
       "      <td>BTC/USD</td>\n",
       "      <td>24979.87</td>\n",
       "      <td>24999.77</td>\n",
       "      <td>24846.43</td>\n",
       "      <td>24876.29</td>\n",
       "      <td>50.910118</td>\n",
       "      <td>1.266455e+06</td>\n",
       "      <td>24486.473072</td>\n",
       "    </tr>\n",
       "    <tr>\n",
       "      <th>2023-02-16 20:00:00</th>\n",
       "      <td>1676577600000</td>\n",
       "      <td>BTC/USD</td>\n",
       "      <td>24876.29</td>\n",
       "      <td>24886.09</td>\n",
       "      <td>24454.89</td>\n",
       "      <td>24562.44</td>\n",
       "      <td>108.987269</td>\n",
       "      <td>2.676993e+06</td>\n",
       "      <td>24395.270174</td>\n",
       "    </tr>\n",
       "    <tr>\n",
       "      <th>2023-02-16 21:00:00</th>\n",
       "      <td>1676581200000</td>\n",
       "      <td>BTC/USD</td>\n",
       "      <td>24562.44</td>\n",
       "      <td>24575.06</td>\n",
       "      <td>24364.72</td>\n",
       "      <td>24521.00</td>\n",
       "      <td>44.653526</td>\n",
       "      <td>1.094949e+06</td>\n",
       "      <td>24172.654582</td>\n",
       "    </tr>\n",
       "    <tr>\n",
       "      <th>2023-02-16 22:00:00</th>\n",
       "      <td>1676584800000</td>\n",
       "      <td>BTC/USD</td>\n",
       "      <td>24521.00</td>\n",
       "      <td>24555.40</td>\n",
       "      <td>24000.00</td>\n",
       "      <td>24002.33</td>\n",
       "      <td>41.758527</td>\n",
       "      <td>1.002302e+06</td>\n",
       "      <td>24025.324410</td>\n",
       "    </tr>\n",
       "    <tr>\n",
       "      <th>2023-02-16 23:00:00</th>\n",
       "      <td>1676588400000</td>\n",
       "      <td>BTC/USD</td>\n",
       "      <td>24002.33</td>\n",
       "      <td>24098.56</td>\n",
       "      <td>23515.96</td>\n",
       "      <td>23520.73</td>\n",
       "      <td>48.328991</td>\n",
       "      <td>1.136733e+06</td>\n",
       "      <td>23807.260000</td>\n",
       "    </tr>\n",
       "  </tbody>\n",
       "</table>\n",
       "<p>64520 rows × 9 columns</p>\n",
       "</div>"
      ],
      "text/plain": [
       "                              Unix   Symbol      Open      High       Low  \\\n",
       "Date                                                                        \n",
       "2015-10-08 13:00:00     1444309200  BTC/USD      0.00    245.00      0.00   \n",
       "2015-10-08 14:00:00     1444312800  BTC/USD    245.00    245.00    244.50   \n",
       "2015-10-08 15:00:00     1444316400  BTC/USD    245.00    245.00    244.92   \n",
       "2015-10-08 16:00:00     1444320000  BTC/USD    244.92    244.92    244.25   \n",
       "2015-10-08 17:00:00     1444323600  BTC/USD    244.25    244.99    244.02   \n",
       "...                            ...      ...       ...       ...       ...   \n",
       "2023-02-16 19:00:00  1676574000000  BTC/USD  24979.87  24999.77  24846.43   \n",
       "2023-02-16 20:00:00  1676577600000  BTC/USD  24876.29  24886.09  24454.89   \n",
       "2023-02-16 21:00:00  1676581200000  BTC/USD  24562.44  24575.06  24364.72   \n",
       "2023-02-16 22:00:00  1676584800000  BTC/USD  24521.00  24555.40  24000.00   \n",
       "2023-02-16 23:00:00  1676588400000  BTC/USD  24002.33  24098.56  23515.96   \n",
       "\n",
       "                        Close  Volume BTC  Volume Currency          Vwap  \n",
       "Date                                                                      \n",
       "2015-10-08 13:00:00    245.00    0.606654     1.486303e+02  11329.893700  \n",
       "2015-10-08 14:00:00    245.00    4.453649     1.091144e+03  11329.894537  \n",
       "2015-10-08 15:00:00    244.92    3.016926     7.389055e+02  11329.900619  \n",
       "2015-10-08 16:00:00    244.25    3.895252     9.514154e+02  11329.904739  \n",
       "2015-10-08 17:00:00    244.99    3.920632     9.605156e+02  11329.910059  \n",
       "...                       ...         ...              ...           ...  \n",
       "2023-02-16 19:00:00  24876.29   50.910118     1.266455e+06  24486.473072  \n",
       "2023-02-16 20:00:00  24562.44  108.987269     2.676993e+06  24395.270174  \n",
       "2023-02-16 21:00:00  24521.00   44.653526     1.094949e+06  24172.654582  \n",
       "2023-02-16 22:00:00  24002.33   41.758527     1.002302e+06  24025.324410  \n",
       "2023-02-16 23:00:00  23520.73   48.328991     1.136733e+06  23807.260000  \n",
       "\n",
       "[64520 rows x 9 columns]"
      ]
     },
     "execution_count": 4,
     "metadata": {},
     "output_type": "execute_result"
    }
   ],
   "source": [
    "### Calculate vwap\n",
    "df['Vwap'] = (df['Volume BTC']*(df['High']+df['Low'])/2).cumsum() / df['Volume BTC'].cumsum()\n",
    "### Sort time\n",
    "df = df.sort_values(\"Date\")\n",
    "### Set index\n",
    "btc = df.set_index(\"Date\")\n",
    "btc"
   ]
  },
  {
   "cell_type": "code",
   "execution_count": 5,
   "metadata": {},
   "outputs": [
    {
     "data": {
      "text/plain": [
       "Unix               0\n",
       "Symbol             0\n",
       "Open               0\n",
       "High               0\n",
       "Low                0\n",
       "Close              0\n",
       "Volume BTC         0\n",
       "Volume Currency    0\n",
       "Vwap               0\n",
       "dtype: int64"
      ]
     },
     "execution_count": 5,
     "metadata": {},
     "output_type": "execute_result"
    }
   ],
   "source": [
    "btc.isna().sum()"
   ]
  },
  {
   "cell_type": "code",
   "execution_count": 6,
   "metadata": {},
   "outputs": [
    {
     "data": {
      "text/html": [
       "<div>\n",
       "<style scoped>\n",
       "    .dataframe tbody tr th:only-of-type {\n",
       "        vertical-align: middle;\n",
       "    }\n",
       "\n",
       "    .dataframe tbody tr th {\n",
       "        vertical-align: top;\n",
       "    }\n",
       "\n",
       "    .dataframe thead th {\n",
       "        text-align: right;\n",
       "    }\n",
       "</style>\n",
       "<table border=\"1\" class=\"dataframe\">\n",
       "  <thead>\n",
       "    <tr style=\"text-align: right;\">\n",
       "      <th></th>\n",
       "      <th>Open</th>\n",
       "      <th>High</th>\n",
       "      <th>Low</th>\n",
       "      <th>Close</th>\n",
       "      <th>Volume BTC</th>\n",
       "      <th>Vwap</th>\n",
       "    </tr>\n",
       "    <tr>\n",
       "      <th>Date</th>\n",
       "      <th></th>\n",
       "      <th></th>\n",
       "      <th></th>\n",
       "      <th></th>\n",
       "      <th></th>\n",
       "      <th></th>\n",
       "    </tr>\n",
       "  </thead>\n",
       "  <tbody>\n",
       "    <tr>\n",
       "      <th>2015-10-08 13:00:00</th>\n",
       "      <td>0.00</td>\n",
       "      <td>245.00</td>\n",
       "      <td>0.00</td>\n",
       "      <td>245.00</td>\n",
       "      <td>0.606654</td>\n",
       "      <td>11329.893700</td>\n",
       "    </tr>\n",
       "    <tr>\n",
       "      <th>2015-10-08 14:00:00</th>\n",
       "      <td>245.00</td>\n",
       "      <td>245.00</td>\n",
       "      <td>244.50</td>\n",
       "      <td>245.00</td>\n",
       "      <td>4.453649</td>\n",
       "      <td>11329.894537</td>\n",
       "    </tr>\n",
       "    <tr>\n",
       "      <th>2015-10-08 15:00:00</th>\n",
       "      <td>245.00</td>\n",
       "      <td>245.00</td>\n",
       "      <td>244.92</td>\n",
       "      <td>244.92</td>\n",
       "      <td>3.016926</td>\n",
       "      <td>11329.900619</td>\n",
       "    </tr>\n",
       "    <tr>\n",
       "      <th>2015-10-08 16:00:00</th>\n",
       "      <td>244.92</td>\n",
       "      <td>244.92</td>\n",
       "      <td>244.25</td>\n",
       "      <td>244.25</td>\n",
       "      <td>3.895252</td>\n",
       "      <td>11329.904739</td>\n",
       "    </tr>\n",
       "    <tr>\n",
       "      <th>2015-10-08 17:00:00</th>\n",
       "      <td>244.25</td>\n",
       "      <td>244.99</td>\n",
       "      <td>244.02</td>\n",
       "      <td>244.99</td>\n",
       "      <td>3.920632</td>\n",
       "      <td>11329.910059</td>\n",
       "    </tr>\n",
       "    <tr>\n",
       "      <th>...</th>\n",
       "      <td>...</td>\n",
       "      <td>...</td>\n",
       "      <td>...</td>\n",
       "      <td>...</td>\n",
       "      <td>...</td>\n",
       "      <td>...</td>\n",
       "    </tr>\n",
       "    <tr>\n",
       "      <th>2023-02-16 19:00:00</th>\n",
       "      <td>24979.87</td>\n",
       "      <td>24999.77</td>\n",
       "      <td>24846.43</td>\n",
       "      <td>24876.29</td>\n",
       "      <td>50.910118</td>\n",
       "      <td>24486.473072</td>\n",
       "    </tr>\n",
       "    <tr>\n",
       "      <th>2023-02-16 20:00:00</th>\n",
       "      <td>24876.29</td>\n",
       "      <td>24886.09</td>\n",
       "      <td>24454.89</td>\n",
       "      <td>24562.44</td>\n",
       "      <td>108.987269</td>\n",
       "      <td>24395.270174</td>\n",
       "    </tr>\n",
       "    <tr>\n",
       "      <th>2023-02-16 21:00:00</th>\n",
       "      <td>24562.44</td>\n",
       "      <td>24575.06</td>\n",
       "      <td>24364.72</td>\n",
       "      <td>24521.00</td>\n",
       "      <td>44.653526</td>\n",
       "      <td>24172.654582</td>\n",
       "    </tr>\n",
       "    <tr>\n",
       "      <th>2023-02-16 22:00:00</th>\n",
       "      <td>24521.00</td>\n",
       "      <td>24555.40</td>\n",
       "      <td>24000.00</td>\n",
       "      <td>24002.33</td>\n",
       "      <td>41.758527</td>\n",
       "      <td>24025.324410</td>\n",
       "    </tr>\n",
       "    <tr>\n",
       "      <th>2023-02-16 23:00:00</th>\n",
       "      <td>24002.33</td>\n",
       "      <td>24098.56</td>\n",
       "      <td>23515.96</td>\n",
       "      <td>23520.73</td>\n",
       "      <td>48.328991</td>\n",
       "      <td>23807.260000</td>\n",
       "    </tr>\n",
       "  </tbody>\n",
       "</table>\n",
       "<p>64520 rows × 6 columns</p>\n",
       "</div>"
      ],
      "text/plain": [
       "                         Open      High       Low     Close  Volume BTC  \\\n",
       "Date                                                                      \n",
       "2015-10-08 13:00:00      0.00    245.00      0.00    245.00    0.606654   \n",
       "2015-10-08 14:00:00    245.00    245.00    244.50    245.00    4.453649   \n",
       "2015-10-08 15:00:00    245.00    245.00    244.92    244.92    3.016926   \n",
       "2015-10-08 16:00:00    244.92    244.92    244.25    244.25    3.895252   \n",
       "2015-10-08 17:00:00    244.25    244.99    244.02    244.99    3.920632   \n",
       "...                       ...       ...       ...       ...         ...   \n",
       "2023-02-16 19:00:00  24979.87  24999.77  24846.43  24876.29   50.910118   \n",
       "2023-02-16 20:00:00  24876.29  24886.09  24454.89  24562.44  108.987269   \n",
       "2023-02-16 21:00:00  24562.44  24575.06  24364.72  24521.00   44.653526   \n",
       "2023-02-16 22:00:00  24521.00  24555.40  24000.00  24002.33   41.758527   \n",
       "2023-02-16 23:00:00  24002.33  24098.56  23515.96  23520.73   48.328991   \n",
       "\n",
       "                             Vwap  \n",
       "Date                               \n",
       "2015-10-08 13:00:00  11329.893700  \n",
       "2015-10-08 14:00:00  11329.894537  \n",
       "2015-10-08 15:00:00  11329.900619  \n",
       "2015-10-08 16:00:00  11329.904739  \n",
       "2015-10-08 17:00:00  11329.910059  \n",
       "...                           ...  \n",
       "2023-02-16 19:00:00  24486.473072  \n",
       "2023-02-16 20:00:00  24395.270174  \n",
       "2023-02-16 21:00:00  24172.654582  \n",
       "2023-02-16 22:00:00  24025.324410  \n",
       "2023-02-16 23:00:00  23807.260000  \n",
       "\n",
       "[64520 rows x 6 columns]"
      ]
     },
     "execution_count": 6,
     "metadata": {},
     "output_type": "execute_result"
    }
   ],
   "source": [
    "btc.dropna(axis=0,inplace=True)\n",
    "btc.drop(columns=['Unix', 'Symbol', 'Volume Currency'],axis=1,inplace=True)\n",
    "btc"
   ]
  },
  {
   "cell_type": "code",
   "execution_count": 7,
   "metadata": {},
   "outputs": [
    {
     "name": "stdout",
     "output_type": "stream",
     "text": [
      "['Open', 'High', 'Low', 'Close', 'Volume BTC', 'Vwap']\n"
     ]
    }
   ],
   "source": [
    "print(list(btc))"
   ]
  },
  {
   "cell_type": "code",
   "execution_count": 8,
   "metadata": {},
   "outputs": [],
   "source": [
    "# btc[['Open', 'High', 'Low', 'Close', 'Volume BTC', 'Vwap']]=scaler.fit_transform(btc[['Open', 'High', 'Low', 'Close', 'Volume BTC', 'Vwap']])"
   ]
  },
  {
   "cell_type": "code",
   "execution_count": 9,
   "metadata": {},
   "outputs": [
    {
     "data": {
      "text/plain": [
       "array([[2.04698234e-05],\n",
       "       [2.04698234e-05],\n",
       "       [1.93001192e-05],\n",
       "       ...,\n",
       "       [3.54967207e-01],\n",
       "       [3.47383576e-01],\n",
       "       [3.40341957e-01]])"
      ]
     },
     "execution_count": 9,
     "metadata": {},
     "output_type": "execute_result"
    }
   ],
   "source": [
    "scalerY = MinMaxScaler(feature_range=(0,1))\n",
    "y = btc[['Close']]\n",
    "y = y.values\n",
    "y = scalerY.fit_transform(y)\n",
    "y"
   ]
  },
  {
   "cell_type": "code",
   "execution_count": 10,
   "metadata": {},
   "outputs": [
    {
     "data": {
      "text/plain": [
       "array([[0.00000000e+00, 2.03617409e-05, 0.00000000e+00, 7.11471904e-05,\n",
       "        0.00000000e+00],\n",
       "       [3.56950541e-03, 2.03617409e-05, 3.57049292e-03, 5.22314878e-04,\n",
       "        3.12002439e-08],\n",
       "       [3.56950541e-03, 2.03617409e-05, 3.57662628e-03, 3.53818918e-04,\n",
       "        2.57753131e-07],\n",
       "       ...,\n",
       "       [3.57860255e-01, 3.53879203e-01, 3.55803928e-01, 5.23687457e-03,\n",
       "        4.78383214e-01],\n",
       "       [3.57256499e-01, 3.53593265e-01, 3.50477833e-01, 4.89735500e-03,\n",
       "        4.72895276e-01],\n",
       "       [3.49699783e-01, 3.46948939e-01, 3.43409279e-01, 5.66792561e-03,\n",
       "        4.64772540e-01]])"
      ]
     },
     "execution_count": 10,
     "metadata": {},
     "output_type": "execute_result"
    }
   ],
   "source": [
    "scalerX = MinMaxScaler(feature_range=(0,1))\n",
    "X = btc.drop(columns=['Close'],axis=1)\n",
    "X = scalerX.fit_transform(X)\n",
    "X"
   ]
  },
  {
   "cell_type": "code",
   "execution_count": 11,
   "metadata": {},
   "outputs": [
    {
     "name": "stderr",
     "output_type": "stream",
     "text": [
      "2023-02-22 09:41:41.286631: W tensorflow/compiler/xla/stream_executor/platform/default/dso_loader.cc:64] Could not load dynamic library 'libcuda.so.1'; dlerror: libcuda.so.1: cannot open shared object file: No such file or directory\n",
      "2023-02-22 09:41:41.286671: W tensorflow/compiler/xla/stream_executor/cuda/cuda_driver.cc:265] failed call to cuInit: UNKNOWN ERROR (303)\n",
      "2023-02-22 09:41:41.286693: I tensorflow/compiler/xla/stream_executor/cuda/cuda_diagnostics.cc:156] kernel driver does not appear to be running on this host (BakanPC): /proc/driver/nvidia/version does not exist\n",
      "2023-02-22 09:41:41.287170: I tensorflow/core/platform/cpu_feature_guard.cc:193] This TensorFlow binary is optimized with oneAPI Deep Neural Network Library (oneDNN) to use the following CPU instructions in performance-critical operations:  AVX2 FMA\n",
      "To enable them in other operations, rebuild TensorFlow with the appropriate compiler flags.\n"
     ]
    },
    {
     "name": "stdout",
     "output_type": "stream",
     "text": [
      "Model: \"sequential\"\n",
      "_________________________________________________________________\n",
      " Layer (type)                Output Shape              Param #   \n",
      "=================================================================\n",
      " lstm (LSTM)                 (None, 5, 50)             10400     \n",
      "                                                                 \n",
      " lstm_1 (LSTM)               (None, 5, 50)             20200     \n",
      "                                                                 \n",
      " lstm_2 (LSTM)               (None, 50)                20200     \n",
      "                                                                 \n",
      " dense (Dense)               (None, 1)                 51        \n",
      "                                                                 \n",
      "=================================================================\n",
      "Total params: 50,851\n",
      "Trainable params: 50,851\n",
      "Non-trainable params: 0\n",
      "_________________________________________________________________\n"
     ]
    }
   ],
   "source": [
    "X_train, X_test, y_train, y_test = train_test_split(X,y,test_size=0.2,shuffle=False)\n",
    "X_train=np.array(X_train)\n",
    "X_test = np.array(X_test)\n",
    "\n",
    "X_train=np.reshape(X_train,(X_train.shape[0],X_train.shape[1],1))\n",
    "X_test = np.reshape(X_test,(X_test.shape[0],X_test.shape[1],1))\n",
    "\n",
    "y_train=np.array(y_train)\n",
    "y_test = np.array(y_test)\n",
    "\n",
    "model = Sequential()\n",
    "model.add(LSTM(50,return_sequences=True,input_shape=(X_train.shape[1],1)))\n",
    "model.add(LSTM(50,return_sequences=True))\n",
    "model.add(LSTM(50))\n",
    "model.add(Dense(1))\n",
    "model.compile(loss='mean_squared_error',optimizer='adam')\n",
    "model.summary()"
   ]
  },
  {
   "cell_type": "code",
   "execution_count": 12,
   "metadata": {},
   "outputs": [
    {
     "name": "stdout",
     "output_type": "stream",
     "text": [
      "Epoch 1/15\n",
      "404/404 [==============================] - 9s 8ms/step - loss: 0.0017\n",
      "Epoch 2/15\n",
      "404/404 [==============================] - 3s 8ms/step - loss: 3.2859e-05\n",
      "Epoch 3/15\n",
      "404/404 [==============================] - 3s 8ms/step - loss: 2.2252e-05\n",
      "Epoch 4/15\n",
      "404/404 [==============================] - 3s 8ms/step - loss: 1.5813e-05\n",
      "Epoch 5/15\n",
      "404/404 [==============================] - 4s 10ms/step - loss: 1.4529e-05\n",
      "Epoch 6/15\n",
      "404/404 [==============================] - 3s 8ms/step - loss: 1.2087e-05\n",
      "Epoch 7/15\n",
      "404/404 [==============================] - 3s 8ms/step - loss: 1.1294e-05\n",
      "Epoch 8/15\n",
      "404/404 [==============================] - 3s 8ms/step - loss: 1.1291e-05\n",
      "Epoch 9/15\n",
      "404/404 [==============================] - 3s 8ms/step - loss: 9.7837e-06\n",
      "Epoch 10/15\n",
      "404/404 [==============================] - 3s 8ms/step - loss: 1.1141e-05\n",
      "Epoch 11/15\n",
      "404/404 [==============================] - 4s 10ms/step - loss: 1.3249e-05\n",
      "Epoch 12/15\n",
      "404/404 [==============================] - 4s 9ms/step - loss: 9.9986e-06\n",
      "Epoch 13/15\n",
      "404/404 [==============================] - 3s 8ms/step - loss: 1.1451e-05\n",
      "Epoch 14/15\n",
      "404/404 [==============================] - 4s 9ms/step - loss: 1.0610e-05\n",
      "Epoch 15/15\n",
      "404/404 [==============================] - 4s 9ms/step - loss: 1.0081e-05\n"
     ]
    },
    {
     "data": {
      "text/plain": [
       "<keras.callbacks.History at 0x7f7ea7b1f070>"
      ]
     },
     "execution_count": 12,
     "metadata": {},
     "output_type": "execute_result"
    }
   ],
   "source": [
    "model.fit(X_train,y_train,verbose=1,epochs=15,batch_size=128)"
   ]
  },
  {
   "cell_type": "code",
   "execution_count": 13,
   "metadata": {},
   "outputs": [
    {
     "data": {
      "text/plain": [
       "<Axes: >"
      ]
     },
     "execution_count": 13,
     "metadata": {},
     "output_type": "execute_result"
    },
    {
     "data": {
      "image/png": "[encoded data removed]",
      "text/plain": [
       "<Figure size 640x480 with 1 Axes>"
      ]
     },
     "metadata": {},
     "output_type": "display_data"
    }
   ],
   "source": [
    "losses=pd.DataFrame(model.history.history)\n",
    "losses.plot()"
   ]
  },
  {
   "cell_type": "code",
   "execution_count": 14,
   "metadata": {},
   "outputs": [
    {
     "name": "stdout",
     "output_type": "stream",
     "text": [
      "1613/1613 [==============================] - 4s 2ms/step\n"
     ]
    },
    {
     "data": {
      "text/plain": [
       "array([[-0.00429956],\n",
       "       [-0.00183692],\n",
       "       [-0.00184355],\n",
       "       ...,\n",
       "       [ 0.72004616],\n",
       "       [ 0.7192109 ],\n",
       "       [ 0.7202242 ]], dtype=float32)"
      ]
     },
     "execution_count": 14,
     "metadata": {},
     "output_type": "execute_result"
    }
   ],
   "source": [
    "trainPredict = model.predict(X_train)\n",
    "trainPredict"
   ]
  },
  {
   "cell_type": "code",
   "execution_count": 15,
   "metadata": {},
   "outputs": [
    {
     "name": "stdout",
     "output_type": "stream",
     "text": [
      "404/404 [==============================] - 2s 2ms/step\n"
     ]
    },
    {
     "data": {
      "text/plain": [
       "array([[0.7202054 ],\n",
       "       [0.7200892 ],\n",
       "       [0.7194981 ],\n",
       "       ...,\n",
       "       [0.35785502],\n",
       "       [0.35664007],\n",
       "       [0.34929603]], dtype=float32)"
      ]
     },
     "execution_count": 15,
     "metadata": {},
     "output_type": "execute_result"
    }
   ],
   "source": [
    "testPredict = model.predict(X_test)\n",
    "testPredict"
   ]
  },
  {
   "cell_type": "code",
   "execution_count": 16,
   "metadata": {},
   "outputs": [],
   "source": [
    "testPredict = scalerY.inverse_transform(testPredict)\n",
    "testY = scalerY.inverse_transform(y_test)\n",
    "trainPredict = scalerY.inverse_transform(trainPredict)\n",
    "trainY = scalerY.inverse_transform(y_train)"
   ]
  },
  {
   "cell_type": "code",
   "execution_count": 17,
   "metadata": {},
   "outputs": [
    {
     "data": {
      "text/plain": [
       "array([[  -50.4612 ],\n",
       "       [  117.96654],\n",
       "       [  117.51353],\n",
       "       ...,\n",
       "       [49489.977  ],\n",
       "       [49432.85   ],\n",
       "       [49502.152  ]], dtype=float32)"
      ]
     },
     "execution_count": 17,
     "metadata": {},
     "output_type": "execute_result"
    }
   ],
   "source": [
    "trainPredict"
   ]
  },
  {
   "cell_type": "code",
   "execution_count": 18,
   "metadata": {},
   "outputs": [
    {
     "data": {
      "text/plain": [
       "array([[49500.867],\n",
       "       [49492.918],\n",
       "       [49452.492],\n",
       "       ...,\n",
       "       [24718.506],\n",
       "       [24635.412],\n",
       "       [24133.129]], dtype=float32)"
      ]
     },
     "execution_count": 18,
     "metadata": {},
     "output_type": "execute_result"
    }
   ],
   "source": [
    "testPredict"
   ]
  },
  {
   "cell_type": "code",
   "execution_count": 19,
   "metadata": {},
   "outputs": [
    {
     "name": "stdout",
     "output_type": "stream",
     "text": [
      "MSE train: 45860.14691176113, MAE train: 121.1599351838801, RMSE train: 214.1498235155965\n"
     ]
    }
   ],
   "source": [
    "mse_train = mean_squared_error(trainPredict, trainY)\n",
    "mae_train = mean_absolute_error(trainPredict, trainY)\n",
    "rmse_train = math.sqrt(mse_train)\n",
    "print('MSE train: {0}, MAE train: {1}, RMSE train: {2}'.format(mse_train, mae_train, rmse_train))"
   ]
  },
  {
   "cell_type": "code",
   "execution_count": 20,
   "metadata": {},
   "outputs": [
    {
     "name": "stdout",
     "output_type": "stream",
     "text": [
      "MSE test: 255069.09901999068, MAE test: 392.7467627255841, RMSE test: 505.043660508664\n"
     ]
    }
   ],
   "source": [
    "mse_test = mean_squared_error(testPredict, testY)\n",
    "mae_test = mean_absolute_error(testPredict, testY)\n",
    "rmse_test = math.sqrt(mse_test)\n",
    "print('MSE test: {0}, MAE test: {1}, RMSE test: {2}'.format(mse_test, mae_test, rmse_test))"
   ]
  },
  {
   "cell_type": "code",
   "execution_count": 21,
   "metadata": {},
   "outputs": [
    {
     "name": "stdout",
     "output_type": "stream",
     "text": [
      "MSE: 87701.93733340706, MAE: 175.4773006922209, RMSE: 296.14512883619585\n"
     ]
    }
   ],
   "source": [
    "mse = mean_squared_error(np.concatenate((trainPredict, testPredict)), np.concatenate((trainY, testY)))\n",
    "mae = mean_absolute_error(np.concatenate((trainPredict, testPredict)), np.concatenate((trainY, testY)))\n",
    "rmse = math.sqrt(mse)\n",
    "print('MSE: {0}, MAE: {1}, RMSE: {2}'.format(mse, mae, rmse))"
   ]
  },
  {
   "cell_type": "code",
   "execution_count": 22,
   "metadata": {},
   "outputs": [
    {
     "data": {
      "image/png": "[encoded data removed]",
      "text/plain": [
       "<Figure size 640x480 with 1 Axes>"
      ]
     },
     "metadata": {},
     "output_type": "display_data"
    }
   ],
   "source": [
    "date_array = np.array(df['Date'])\n",
    "plt.plot(date_array, np.concatenate((trainY, testY)), label='Actuation')\n",
    "plt.plot(date_array, np.concatenate((trainPredict, testPredict)), label='Predict')\n",
    "plt.legend(loc='best')\n",
    "plt.xlabel(\"Date\")\n",
    "plt.ylabel(\"BTC Price\")\n",
    "plt.show()"
   ]
  },
  {
   "cell_type": "code",
   "execution_count": 23,
   "metadata": {},
   "outputs": [
    {
     "data": {
      "image/png": "[encoded data removed]",
      "text/plain": [
       "<Figure size 640x480 with 1 Axes>"
      ]
     },
     "metadata": {},
     "output_type": "display_data"
    }
   ],
   "source": [
    "date_array = np.array(df['Date'])\n",
    "plt.plot(date_array[30000:31000], trainY[30000:31000], label='Actuation')\n",
    "plt.plot(date_array[30000:31000], trainPredict[30000:31000], label='Predict')\n",
    "plt.legend(loc='best')\n",
    "plt.xlabel(\"Date\")\n",
    "plt.ylabel(\"BTC Price\")\n",
    "plt.show()"
   ]
  },
  {
   "cell_type": "code",
   "execution_count": 24,
   "metadata": {},
   "outputs": [
    {
     "data": {
      "image/png": "[encoded data removed]",
      "text/plain": [
       "<Figure size 640x480 with 1 Axes>"
      ]
     },
     "metadata": {},
     "output_type": "display_data"
    }
   ],
   "source": [
    "date_array = np.array(df['Date'])\n",
    "plt.plot(date_array[30000:31000], trainY[30000:31000], label='Actuation')\n",
    "plt.legend(loc='best')\n",
    "plt.xlabel(\"Date\")\n",
    "plt.ylabel(\"BTC Price\")\n",
    "plt.show()"
   ]
  },
  {
   "cell_type": "code",
   "execution_count": 25,
   "metadata": {},
   "outputs": [
    {
     "data": {
      "image/png": "[encoded data removed]",
      "text/plain": [
       "<Figure size 640x480 with 1 Axes>"
      ]
     },
     "metadata": {},
     "output_type": "display_data"
    }
   ],
   "source": [
    "date_array = np.array(df['Date'])\n",
    "plt.plot(date_array[30000:31000], trainPredict[30000:31000], label='Predict')\n",
    "plt.legend(loc='best')\n",
    "plt.xlabel(\"Date\")\n",
    "plt.ylabel(\"BTC Price\")\n",
    "plt.show()"
   ]
  },
  {
   "cell_type": "code",
   "execution_count": 26,
   "metadata": {},
   "outputs": [],
   "source": [
    "# from tensorflow.keras.models import save_model\n",
    "# save_model(model, \"btc-predict-model.h5\")"
   ]
  }
 ],
 "metadata": {
  "kernelspec": {
   "display_name": "tf",
   "language": "python",
   "name": "python3"
  },
  "language_info": {
   "codemirror_mode": {
    "name": "ipython",
    "version": 3
   },
   "file_extension": ".py",
   "mimetype": "text/x-python",
   "name": "python",
   "nbconvert_exporter": "python",
   "pygments_lexer": "ipython3",
   "version": "3.9.16"
  },
  "vscode": {
   "interpreter": {
    "hash": "a09893b0f1666c4d12fdbfd85f8628903445d356762492adcc43a0b3a6ff4bf3"
   }
  }
 },
 "nbformat": 4,
 "nbformat_minor": 2
}
